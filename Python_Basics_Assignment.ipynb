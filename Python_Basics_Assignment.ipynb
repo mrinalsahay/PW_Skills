{
  "nbformat": 4,
  "nbformat_minor": 0,
  "metadata": {
    "colab": {
      "provenance": [],
      "gpuType": "T4"
    },
    "kernelspec": {
      "name": "python3",
      "display_name": "Python 3"
    },
    "language_info": {
      "name": "python"
    },
    "accelerator": "GPU"
  },
  "cells": [
    {
      "cell_type": "markdown",
      "source": [
        "**Mrinal Sahay**"
      ],
      "metadata": {
        "id": "GZCQnO86zDH2"
      }
    },
    {
      "cell_type": "markdown",
      "source": [
        "## **Python Basics Questions**"
      ],
      "metadata": {
        "id": "Y_9tZZXzx14k"
      }
    },
    {
      "cell_type": "markdown",
      "source": [
        "Q1. What is Python, and why is it popular?\n",
        "\n",
        "\n",
        "*  Python is a level programming language that is simple to read and write. It is used extensively in web development, data analysis, artificial intelligence, and many other applications. It is popular due to its basic syntax, big community, and extensive libraries that make coding simpler and more efficient.\n"
      ],
      "metadata": {
        "id": "Qt6vpDkDp9lO"
      }
    },
    {
      "cell_type": "markdown",
      "source": [
        "Q2. What is an interpreter in Python ?\n",
        "\n",
        "\n",
        "*   An interpreter in Python is a program that interprets and runs Python code line by line. Rather than compiling the entire code once, it executes the code directly, which makes testing and debugging simpler\n"
      ],
      "metadata": {
        "id": "nQQ6iCqWrcAS"
      }
    },
    {
      "cell_type": "markdown",
      "source": [
        "Q3. What are pre-defined keywords in Python ?\n",
        "\n",
        "\n",
        "*   Python has some reserve words, called keywords, which are essentially the words that carry meaning in the Python language. These keywords cannot be used in declaring closed identifiers. Some keyword examples are: if, else, for, while, def, and class.\n",
        "\n"
      ],
      "metadata": {
        "id": "OOa-xyo3r9PB"
      }
    },
    {
      "cell_type": "markdown",
      "source": [
        "Q4. Can keywords be used as variable names ?\n",
        "\n",
        "\n",
        "*   No, keywords cannot be variable names in Python. The language reserves them for specific purposes, and using them as variable names would result in an error.\n",
        "\n"
      ],
      "metadata": {
        "id": "l7TelniNsRIU"
      }
    },
    {
      "cell_type": "markdown",
      "source": [
        "Q5. What is mutability in Python ?\n",
        "\n",
        "\n",
        "*   Mutability is the aspect of whether or not the value of an object can be altered once it has been constructed. If an object is mutable, it can be altered; if it is immutable, it cannot be altered once constructed.\n"
      ],
      "metadata": {
        "id": "EKMKoRkds2DQ"
      }
    },
    {
      "cell_type": "markdown",
      "source": [
        "Q6. Why are lists mutable, but tuples are immutable ?\n",
        "\n",
        "\n",
        "*   Lists are mutable since they are meant to permit changes (such as adding or deleting elements), whereas tuples are immutable to prevent their data from being changed, providing consistency and security in the code.\n"
      ],
      "metadata": {
        "id": "ctlmWCSQtDxM"
      }
    },
    {
      "cell_type": "markdown",
      "source": [
        "Q7. What is the difference between == and is operators in Python ?\n",
        "\n",
        "\n",
        "*   [==] - checks if the values of two objects are equal.\n",
        "*   [is] - checks if two objects are the exact same object (i.e., they have the same memory address).\n",
        "\n"
      ],
      "metadata": {
        "id": "of6QzzjutN8R"
      }
    },
    {
      "cell_type": "markdown",
      "source": [
        "Q8. What are logical operators in Python?\n",
        "\n",
        "*   [and] - True if both conditions are true.\n",
        "*   [or] - True if at least one condition is true.\n",
        "*   [not] - True if the condition is false.\n",
        "\n"
      ],
      "metadata": {
        "id": "8CvUE0F9tvKJ"
      }
    },
    {
      "cell_type": "markdown",
      "source": [
        "Q9. What is type casting in Python ?\n",
        "\n",
        "\n",
        "*   Type casting involves converting one data type into another. For instance, when converting an integer into a string or an integer into a float."
      ],
      "metadata": {
        "id": "lfZYMuOauEtN"
      }
    },
    {
      "cell_type": "markdown",
      "source": [
        "Q10. What is the difference between implicit and explicit type casting ?\n",
        "\n",
        "\n",
        "*   Implicit type casting (also referred to as coercion) occurs automatically by Python. For instance, when you are adding an integer to a float, Python automatically casts the integer to a float.\n",
        "\n",
        "* Explicit type casting involves the programmer explicitly converting one data type to another, employing functions such as int(), float(), or str().\n",
        "\n"
      ],
      "metadata": {
        "id": "2Kb9cqy5uZCU"
      }
    },
    {
      "cell_type": "markdown",
      "source": [
        "Q11. What is the purpose of conditional statements in Python ?\n",
        "\n",
        "\n",
        "*   Conditional statements such as if, elif, and else are applied to make program decisions. They enable you to execute alternative blocks of code based on whether a condition is true or not.\n",
        "\n"
      ],
      "metadata": {
        "id": "EoNyt7bWuqY0"
      }
    },
    {
      "cell_type": "markdown",
      "source": [
        "Q12. How does the elif statement work ?\n",
        "\n",
        "\n",
        "*   The elif (which is short for \"else if\") statement allows you to test many conditions. Python checks the elif condition if the condition in the if statement proves to be untrue. If this is true, it executes the block of that code.\n"
      ],
      "metadata": {
        "id": "u1GClb7rvbzP"
      }
    },
    {
      "cell_type": "markdown",
      "source": [
        "Q13. What is the difference between for and while loops ?\n",
        "\n",
        "\n",
        "*   A for loop is used when you know in advance how many times you need to iterate (e.g., iterating over a list or range).\n",
        "\n",
        "* A while loop continues running as long as a condition is true. It’s useful when you don’t know the number of iterations ahead of time.\n",
        "\n"
      ],
      "metadata": {
        "id": "0q3QYYy4vnlV"
      }
    },
    {
      "cell_type": "markdown",
      "source": [
        "Q14. Describe a scenario where a while loop is more suitable than a for loop.\n",
        "\n",
        "\n",
        "*   A for loop is used when you know in advance how many times you need to iterate (e.g., iterating over a list or range).\n",
        "\n",
        "* A while loop continues running as long as a condition is true. It’s useful when you don’t know the number of iterations ahead of time.\n",
        "\n"
      ],
      "metadata": {
        "id": "wIOlyz4ixghH"
      }
    },
    {
      "cell_type": "markdown",
      "source": [
        "# **Practical Questions**\n",
        "\n"
      ],
      "metadata": {
        "id": "XxBV9Rlwp4ns"
      }
    },
    {
      "cell_type": "markdown",
      "source": [
        "Q1. Write a Python program to print \"Hello, World!\""
      ],
      "metadata": {
        "id": "8BZNcyn4nFcG"
      }
    },
    {
      "cell_type": "code",
      "execution_count": 1,
      "metadata": {
        "colab": {
          "base_uri": "https://localhost:8080/"
        },
        "id": "UrxgqXnkmAUS",
        "outputId": "ab5d8b6e-8dd9-4fb1-a2d5-8080c24ec74b"
      },
      "outputs": [
        {
          "output_type": "stream",
          "name": "stdout",
          "text": [
            "Hello, World!\n"
          ]
        }
      ],
      "source": [
        "print(\"Hello, World!\")"
      ]
    },
    {
      "cell_type": "markdown",
      "source": [
        "Q2. Write a Python program that displays your name and age."
      ],
      "metadata": {
        "id": "xBVaGnZDnN3g"
      }
    },
    {
      "cell_type": "code",
      "source": [
        "name = \"Mrinal Sahay\"\n",
        "age = 22\n",
        "print(f\"My name is {name} and I am {age} years old.\")"
      ],
      "metadata": {
        "colab": {
          "base_uri": "https://localhost:8080/"
        },
        "id": "16avYlJwnQtX",
        "outputId": "bafa6918-d77b-44da-eaeb-f93e7e35ce49"
      },
      "execution_count": 2,
      "outputs": [
        {
          "output_type": "stream",
          "name": "stdout",
          "text": [
            "My name is Mrinal Sahay and I am 22 years old.\n"
          ]
        }
      ]
    },
    {
      "cell_type": "markdown",
      "source": [
        "Q3. Write code to print all the pre-defined keywords in Python using the keyword library."
      ],
      "metadata": {
        "id": "NG2tYMH0naYE"
      }
    },
    {
      "cell_type": "code",
      "source": [
        "import keyword\n",
        "print(keyword.kwlist)"
      ],
      "metadata": {
        "colab": {
          "base_uri": "https://localhost:8080/"
        },
        "id": "ACcEAx0FnevT",
        "outputId": "60642e0f-593f-42cc-cba2-1918682902ea"
      },
      "execution_count": 3,
      "outputs": [
        {
          "output_type": "stream",
          "name": "stdout",
          "text": [
            "['False', 'None', 'True', 'and', 'as', 'assert', 'async', 'await', 'break', 'class', 'continue', 'def', 'del', 'elif', 'else', 'except', 'finally', 'for', 'from', 'global', 'if', 'import', 'in', 'is', 'lambda', 'nonlocal', 'not', 'or', 'pass', 'raise', 'return', 'try', 'while', 'with', 'yield']\n"
          ]
        }
      ]
    },
    {
      "cell_type": "markdown",
      "source": [
        "Q4. Write a program that checks if a given word is a Python keyword."
      ],
      "metadata": {
        "id": "lXrmEppKnj-t"
      }
    },
    {
      "cell_type": "code",
      "source": [
        "word = input(\"Enter a word:\")\n",
        "print(f\"'{word}' is a Python keyword.\" if keyword.iskeyword(word) else f\"'{word}' is not a Python keyword.\")"
      ],
      "metadata": {
        "colab": {
          "base_uri": "https://localhost:8080/"
        },
        "id": "t5dlmXYUnnle",
        "outputId": "74c2def6-f612-4ec9-826b-76d92233f1dd"
      },
      "execution_count": 6,
      "outputs": [
        {
          "output_type": "stream",
          "name": "stdout",
          "text": [
            "Enter a word:AND\n",
            "'AND' is not a Python keyword.\n"
          ]
        }
      ]
    },
    {
      "cell_type": "markdown",
      "source": [
        "Q5. Create a list and tuple in Python, and demonstrate how attempting to change an element works differently for each."
      ],
      "metadata": {
        "id": "mfuvT3Qmnt2j"
      }
    },
    {
      "cell_type": "code",
      "source": [
        "my_list = [1, 2, 3]\n",
        "my_tuple = (1, 2, 3)\n",
        "my_list[0] = 10\n",
        "try:\n",
        "    my_tuple[0] = 10\n",
        "except TypeError as e:\n",
        "    print(f\"Error: {e}\")"
      ],
      "metadata": {
        "colab": {
          "base_uri": "https://localhost:8080/"
        },
        "id": "pDReMpVJn1ar",
        "outputId": "8239f8fc-0b08-411c-c7c8-991a6dff9281"
      },
      "execution_count": 7,
      "outputs": [
        {
          "output_type": "stream",
          "name": "stdout",
          "text": [
            "Error: 'tuple' object does not support item assignment\n"
          ]
        }
      ]
    },
    {
      "cell_type": "markdown",
      "source": [
        "Q6. Write a function to demonstrate the behavior of mutable and immutable arguments."
      ],
      "metadata": {
        "id": "jfWrdkX7n-BG"
      }
    },
    {
      "cell_type": "code",
      "source": [
        "def modify_data(mutable_list, immutable_var):\n",
        "    mutable_list.append(4)\n",
        "    immutable_var += 1\n",
        "    print(\"Inside function:\", mutable_list, immutable_var)\n",
        "\n",
        "lst = [1, 2, 3]\n",
        "num = 5\n",
        "modify_data(lst, num)\n",
        "print(\"Outside function:\", lst, num)"
      ],
      "metadata": {
        "colab": {
          "base_uri": "https://localhost:8080/"
        },
        "id": "s8UPO7FXoAyR",
        "outputId": "58e65447-d686-4285-d52a-7ff9768f33de"
      },
      "execution_count": 8,
      "outputs": [
        {
          "output_type": "stream",
          "name": "stdout",
          "text": [
            "Inside function: [1, 2, 3, 4] 6\n",
            "Outside function: [1, 2, 3, 4] 5\n"
          ]
        }
      ]
    },
    {
      "cell_type": "markdown",
      "source": [
        "Q7. Write a program that performs basic arithmetic operations on two user-input numbers."
      ],
      "metadata": {
        "id": "6OioppjmoTxJ"
      }
    },
    {
      "cell_type": "code",
      "source": [
        "a = int(input(\"first number: \"))\n",
        "b = int(input(\"second number: \"))\n",
        "print(f\"Sum: {a+b}, Difference: {a-b}, Product: {a*b}, Quotient: {a/b if b != 0 else 'undefined'}\")"
      ],
      "metadata": {
        "colab": {
          "base_uri": "https://localhost:8080/"
        },
        "id": "wWK1k3bWoXP4",
        "outputId": "4b2d96c1-5b33-4281-b554-308acc6f328e"
      },
      "execution_count": 9,
      "outputs": [
        {
          "output_type": "stream",
          "name": "stdout",
          "text": [
            "first number: 6\n",
            "second number: 5\n",
            "Sum: 11, Difference: 1, Product: 30, Quotient: 1.2\n"
          ]
        }
      ]
    },
    {
      "cell_type": "markdown",
      "source": [
        "Q8. Write a program to demonstrate the use of logical operators."
      ],
      "metadata": {
        "id": "zik1kfijofTF"
      }
    },
    {
      "cell_type": "code",
      "source": [
        "x = True\n",
        "y = False\n",
        "print(f\"x AND y: {x and y}, x OR y: {x or y}, NOT x: {not x}\")"
      ],
      "metadata": {
        "colab": {
          "base_uri": "https://localhost:8080/"
        },
        "id": "2dVXN_kDoiig",
        "outputId": "0cf6034b-97e0-43f6-8153-daa128c32157"
      },
      "execution_count": 10,
      "outputs": [
        {
          "output_type": "stream",
          "name": "stdout",
          "text": [
            "x AND y: False, x OR y: True, NOT x: False\n"
          ]
        }
      ]
    },
    {
      "cell_type": "markdown",
      "source": [
        "Q9. Write a Python program to convert user input from string to integer, float, and boolean types."
      ],
      "metadata": {
        "id": "YSyI1OObomjV"
      }
    },
    {
      "cell_type": "code",
      "source": [
        "user_input = input(\"Value: \")\n",
        "print(f\"Integer: {int(user_input)}, Float: {float(user_input)}, Boolean: {bool(user_input)}\")"
      ],
      "metadata": {
        "colab": {
          "base_uri": "https://localhost:8080/"
        },
        "id": "jspsgtPNotz2",
        "outputId": "e4b4dacf-34fb-4b23-8905-bb3010c3c058"
      },
      "execution_count": 12,
      "outputs": [
        {
          "output_type": "stream",
          "name": "stdout",
          "text": [
            "Value: 652\n",
            "Integer: 652, Float: 652.0, Boolean: True\n"
          ]
        }
      ]
    },
    {
      "cell_type": "markdown",
      "source": [
        "Q10. Write code to demonstrate type casting with list elements."
      ],
      "metadata": {
        "id": "VC4MMuQYpAXO"
      }
    },
    {
      "cell_type": "code",
      "source": [
        "list_of_strings = [\"1\", \"2\", \"3\"]\n",
        "list_of_integers = list(map(int, list_of_strings))\n",
        "print(list_of_integers)"
      ],
      "metadata": {
        "colab": {
          "base_uri": "https://localhost:8080/"
        },
        "id": "_WpmrsCGpFSl",
        "outputId": "41aee79f-e9fb-4f0a-8fd1-d0259daf86b5"
      },
      "execution_count": 13,
      "outputs": [
        {
          "output_type": "stream",
          "name": "stdout",
          "text": [
            "[1, 2, 3]\n"
          ]
        }
      ]
    },
    {
      "cell_type": "markdown",
      "source": [
        "Q11. Write a program that checks if a number is positive, negative, or zero."
      ],
      "metadata": {
        "id": "pXKg30KipHyJ"
      }
    },
    {
      "cell_type": "code",
      "source": [
        "num = int(input(\"Enter a number: \"))\n",
        "if num > 0:\n",
        "    print(\"Positive\")\n",
        "elif num < 0:\n",
        "    print(\"Negative\")\n",
        "else:\n",
        "    print(\"Zero\")"
      ],
      "metadata": {
        "colab": {
          "base_uri": "https://localhost:8080/"
        },
        "id": "J29YarRfpKQe",
        "outputId": "ef9b069c-c792-4c1b-a824-952d0ff65a3e"
      },
      "execution_count": 16,
      "outputs": [
        {
          "output_type": "stream",
          "name": "stdout",
          "text": [
            "Enter a number: -85\n",
            "Negative\n"
          ]
        }
      ]
    },
    {
      "cell_type": "markdown",
      "source": [
        "Q12. Write a for loop to print numbers from 1 to 10."
      ],
      "metadata": {
        "id": "06pQQ1AZpTFQ"
      }
    },
    {
      "cell_type": "code",
      "source": [
        "for i in range(1, 11):\n",
        "    print(i, end=\" \")"
      ],
      "metadata": {
        "colab": {
          "base_uri": "https://localhost:8080/"
        },
        "id": "oL1xlsDCpVr7",
        "outputId": "58261d9a-1f3b-4411-8a26-1d4f5c2909fc"
      },
      "execution_count": 17,
      "outputs": [
        {
          "output_type": "stream",
          "name": "stdout",
          "text": [
            "1 2 3 4 5 6 7 8 9 10 "
          ]
        }
      ]
    },
    {
      "cell_type": "markdown",
      "source": [
        "Q13. Write a Python program to find the sum of all even numbers between 1 and 50."
      ],
      "metadata": {
        "id": "ZU2Qih4ppYZj"
      }
    },
    {
      "cell_type": "code",
      "source": [
        "print(sum(i for i in range(1, 51) if i % 2 == 0))"
      ],
      "metadata": {
        "colab": {
          "base_uri": "https://localhost:8080/"
        },
        "id": "st_lnH4Qpbv6",
        "outputId": "81926244-b0d7-497f-e677-cb18c15913a5"
      },
      "execution_count": 18,
      "outputs": [
        {
          "output_type": "stream",
          "name": "stdout",
          "text": [
            "650\n"
          ]
        }
      ]
    },
    {
      "cell_type": "markdown",
      "source": [
        "Q14. Write a program to reverse a string using a while loop."
      ],
      "metadata": {
        "id": "-D3f7jwLpklY"
      }
    },
    {
      "cell_type": "code",
      "source": [
        "string = input(\"Enter a string: \")\n",
        "reversed_string = \"\"\n",
        "i = len(string) - 1\n",
        "while i >= 0:\n",
        "    reversed_string += string[i]\n",
        "    i -= 1\n",
        "print(\"Reversed string:\", reversed_string)"
      ],
      "metadata": {
        "colab": {
          "base_uri": "https://localhost:8080/"
        },
        "id": "D2IbSnUzpmu4",
        "outputId": "e4e3e5db-2bf2-4266-8ae2-1e99848facbb"
      },
      "execution_count": 19,
      "outputs": [
        {
          "output_type": "stream",
          "name": "stdout",
          "text": [
            "Enter a string: Mrinal Sahay\n",
            "Reversed string: yahaS lanirM\n"
          ]
        }
      ]
    },
    {
      "cell_type": "markdown",
      "source": [
        "Q15. Write a Python program to calculate the factorial of a number provided by the user using a while loop."
      ],
      "metadata": {
        "id": "spjCdqrcpqj8"
      }
    },
    {
      "cell_type": "code",
      "source": [
        "num = int(input(\"Enter a number: \"))\n",
        "factorial = 1\n",
        "while num > 1:\n",
        "    factorial *= num\n",
        "    num -= 1\n",
        "print(\"Factorial:\", factorial)"
      ],
      "metadata": {
        "colab": {
          "base_uri": "https://localhost:8080/"
        },
        "id": "7Zw6YEfQpt36",
        "outputId": "f15ae485-c28f-440d-af71-080524a20952"
      },
      "execution_count": 22,
      "outputs": [
        {
          "output_type": "stream",
          "name": "stdout",
          "text": [
            "Enter a number: 53\n",
            "Factorial: 4274883284060025564298013753389399649690343788366813724672000000000000\n"
          ]
        }
      ]
    }
  ]
}